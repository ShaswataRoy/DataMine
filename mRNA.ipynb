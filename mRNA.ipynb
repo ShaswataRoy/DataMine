{
  "nbformat": 4,
  "nbformat_minor": 0,
  "metadata": {
    "colab": {
      "provenance": [],
      "authorship_tag": "ABX9TyNbZq7QocuQPFyK96Yd97hC",
      "include_colab_link": true
    },
    "kernelspec": {
      "name": "python3",
      "display_name": "Python 3"
    },
    "language_info": {
      "name": "python"
    },
    "accelerator": "GPU",
    "gpuClass": "standard"
  },
  "cells": [
    {
      "cell_type": "markdown",
      "metadata": {
        "id": "view-in-github",
        "colab_type": "text"
      },
      "source": [
        "<a href=\"https://colab.research.google.com/github/ShaswataRoy/DataMine/blob/main/mRNA.ipynb\" target=\"_parent\"><img src=\"https://colab.research.google.com/assets/colab-badge.svg\" alt=\"Open In Colab\"/></a>"
      ]
    },
    {
      "cell_type": "code",
      "execution_count": 33,
      "metadata": {
        "colab": {
          "base_uri": "https://localhost:8080/"
        },
        "id": "grmSavZZZ5Ui",
        "outputId": "124df399-b9dd-4b0b-e474-19255db3051f"
      },
      "outputs": [
        {
          "output_type": "stream",
          "name": "stdout",
          "text": [
            "Overwriting mRNA.py\n"
          ]
        }
      ],
      "source": [
        "%%writefile mRNA.py\n",
        "import numpy as np\n",
        "import pandas as pd\n",
        "import stan\n",
        "import matplotlib.pyplot as plt\n",
        "\n",
        "df = pd.read_csv('mRNA.csv', comment='#')\n",
        "\n",
        "x1 = df['x1'].to_numpy()\n",
        "\n",
        "x1 = x1[:10000] #Reduced the data to ensure convergence in reasonable time\n",
        "model_code = \"\"\"\n",
        "data {\n",
        "  // Number of separate experiments\n",
        "  int K;\n",
        "  \n",
        "  real x[K];\n",
        "}\n",
        "\n",
        "\n",
        "parameters {\n",
        "  // Hyperparameters\n",
        "  \n",
        "\n",
        "  // Parameters\n",
        "  real<lower=0> k_plus;\n",
        "  real<lower=0> k_minus;\n",
        "}\n",
        "\n",
        "\n",
        "transformed parameters {\n",
        "  // Transformed hyperparameters\n",
        "  real<lower=0> theta[K];\n",
        " \n",
        "  for (i in 1:K){\n",
        "    theta[i] = x[i]/5;\n",
        "}\n",
        "}\n",
        "\n",
        "\n",
        "model {\n",
        "  // Hyperpriors\n",
        "  //phi ~ beta(2.0, 2.0);\n",
        "  k_plus ~ normal(2,2);\n",
        "  k_minus ~ normal(2,2);\n",
        "  \n",
        "  // Prior\n",
        "  theta ~ beta(k_plus,k_minus);\n",
        "  \n",
        "}\n",
        "\"\"\"\n",
        "\n",
        "data = {\"x\": x1,\"K\": len(x1)}\n",
        "\n",
        "posterior = stan.build(model_code, data=data, random_seed=1)\n",
        "fit = posterior.sample(num_chains=4, num_samples=1000)\n",
        "df = fit.to_frame()\n",
        "df.to_csv('traces.csv')"
      ]
    },
    {
      "cell_type": "code",
      "source": [
        "!python mRNA.py"
      ],
      "metadata": {
        "colab": {
          "base_uri": "https://localhost:8080/"
        },
        "id": "vt32-8UlauME",
        "outputId": "4a343b84-a50f-4972-9586-b305ac947f36"
      },
      "execution_count": null,
      "outputs": [
        {
          "output_type": "stream",
          "name": "stdout",
          "text": [
            "\u001b[32mBuilding:\u001b[0m found in cache, done.\n",
            "\u001b[36mSampling:\u001b[0m   0%\n",
            "\u001b[1A\u001b[0J\u001b[36mSampling:\u001b[0m   0% (1/8000)\n",
            "\u001b[1A\u001b[0J\u001b[36mSampling:\u001b[0m   0% (2/8000)\n",
            "\u001b[1A\u001b[0J\u001b[36mSampling:\u001b[0m   1% (101/8000)\n",
            "\u001b[1A\u001b[0J\u001b[36mSampling:\u001b[0m   2% (200/8000)\n",
            "\u001b[1A\u001b[0J\u001b[36mSampling:\u001b[0m   4% (300/8000)\n",
            "\u001b[1A\u001b[0J\u001b[36mSampling:\u001b[0m   5% (400/8000)\n",
            "\u001b[1A\u001b[0J\u001b[36mSampling:\u001b[0m   6% (500/8000)\n",
            "\u001b[1A\u001b[0J\u001b[36mSampling:\u001b[0m   8% (600/8000)\n",
            "\u001b[1A\u001b[0J\u001b[36mSampling:\u001b[0m   9% (700/8000)\n",
            "\u001b[1A\u001b[0J\u001b[36mSampling:\u001b[0m  10% (800/8000)\n",
            "\u001b[1A\u001b[0J\u001b[36mSampling:\u001b[0m  11% (900/8000)\n",
            "\u001b[1A\u001b[0J\u001b[36mSampling:\u001b[0m  12% (1000/8000)\n",
            "\u001b[1A\u001b[0J\u001b[36mSampling:\u001b[0m  14% (1100/8000)\n",
            "\u001b[1A\u001b[0J\u001b[36mSampling:\u001b[0m  15% (1200/8000)\n",
            "\u001b[1A\u001b[0J\u001b[36mSampling:\u001b[0m  16% (1300/8000)\n",
            "\u001b[1A\u001b[0J\u001b[36mSampling:\u001b[0m  18% (1400/8000)\n",
            "\u001b[1A\u001b[0J\u001b[36mSampling:\u001b[0m  19% (1500/8000)\n",
            "\u001b[1A\u001b[0J\u001b[36mSampling:\u001b[0m  20% (1600/8000)\n",
            "\u001b[1A\u001b[0J\u001b[36mSampling:\u001b[0m  21% (1700/8000)\n",
            "\u001b[1A\u001b[0J\u001b[36mSampling:\u001b[0m  22% (1800/8000)\n",
            "\u001b[1A\u001b[0J\u001b[36mSampling:\u001b[0m  25% (2000/8000)\n",
            "\u001b[1A\u001b[0J\u001b[36mSampling:\u001b[0m  32% (2600/8000)\n",
            "\u001b[1A\u001b[0J\u001b[36mSampling:\u001b[0m  34% (2700/8000)\n",
            "\u001b[1A\u001b[0J\u001b[36mSampling:\u001b[0m  39% (3100/8000)\n",
            "\u001b[1A\u001b[0J\u001b[36mSampling:\u001b[0m  40% (3200/8000)\n",
            "\u001b[1A\u001b[0J\u001b[36mSampling:\u001b[0m  41% (3300/8000)\n",
            "\u001b[1A\u001b[0J\u001b[36mSampling:\u001b[0m  41% (3301/8000)\n",
            "\u001b[1A\u001b[0J\u001b[36mSampling:\u001b[0m  43% (3401/8000)\n",
            "\u001b[1A\u001b[0J\u001b[36mSampling:\u001b[0m  44% (3500/8000)\n",
            "\u001b[1A\u001b[0J\u001b[36mSampling:\u001b[0m  45% (3600/8000)\n",
            "\u001b[1A\u001b[0J\u001b[36mSampling:\u001b[0m  46% (3700/8000)\n",
            "\u001b[1A\u001b[0J\u001b[36mSampling:\u001b[0m  48% (3800/8000)\n",
            "\u001b[1A\u001b[0J\u001b[36mSampling:\u001b[0m  49% (3900/8000)\n",
            "\u001b[1A\u001b[0J\u001b[36mSampling:\u001b[0m  50% (4000/8000)\n",
            "\u001b[1A\u001b[0J\u001b[36mSampling:\u001b[0m  51% (4100/8000)\n",
            "\u001b[1A\u001b[0J\u001b[36mSampling:\u001b[0m  52% (4200/8000)\n",
            "\u001b[1A\u001b[0J\u001b[36mSampling:\u001b[0m  54% (4300/8000)\n",
            "\u001b[1A\u001b[0J\u001b[36mSampling:\u001b[0m  55% (4400/8000)\n",
            "\u001b[1A\u001b[0J\u001b[36mSampling:\u001b[0m  56% (4500/8000)\n",
            "\u001b[1A\u001b[0J\u001b[36mSampling:\u001b[0m  58% (4600/8000)\n",
            "\u001b[1A\u001b[0J\u001b[36mSampling:\u001b[0m  59% (4700/8000)\n",
            "\u001b[1A\u001b[0J\u001b[36mSampling:\u001b[0m  66% (5300/8000)\n",
            "\u001b[1A\u001b[0J\u001b[36mSampling:\u001b[0m  68% (5400/8000)\n",
            "\u001b[1A\u001b[0J\u001b[36mSampling:\u001b[0m  69% (5500/8000)\n",
            "\u001b[1A\u001b[0J\u001b[36mSampling:\u001b[0m  74% (5900/8000)\n",
            "\u001b[1A\u001b[0J\u001b[36mSampling:\u001b[0m  74% (5901/8000)\n",
            "\u001b[1A\u001b[0J\u001b[36mSampling:\u001b[0m  75% (6000/8000)\n",
            "\u001b[1A\u001b[0J\u001b[36mSampling:\u001b[0m  76% (6100/8000)\n",
            "\u001b[1A\u001b[0J\u001b[36mSampling:\u001b[0m  78% (6200/8000)\n",
            "\u001b[1A\u001b[0J\u001b[36mSampling:\u001b[0m  79% (6300/8000)\n",
            "\u001b[1A\u001b[0J\u001b[36mSampling:\u001b[0m  80% (6400/8000)\n",
            "\u001b[1A\u001b[0J\u001b[36mSampling:\u001b[0m  81% (6500/8000)\n",
            "\u001b[1A\u001b[0J\u001b[36mSampling:\u001b[0m  82% (6600/8000)\n",
            "\u001b[1A\u001b[0J\u001b[36mSampling:\u001b[0m  84% (6700/8000)\n",
            "\u001b[1A\u001b[0J\u001b[36mSampling:\u001b[0m  85% (6800/8000)\n",
            "\u001b[1A\u001b[0J\u001b[36mSampling:\u001b[0m  86% (6900/8000)\n",
            "\u001b[1A\u001b[0J\u001b[36mSampling:\u001b[0m  91% (7300/8000)\n",
            "\u001b[1A\u001b[0J\u001b[36mSampling:\u001b[0m  99% (7900/8000)\n",
            "\u001b[1A\u001b[0J\u001b[36mSampling:\u001b[0m 100% (8000/8000)\n",
            "\u001b[1A\u001b[0J\u001b[32mSampling:\u001b[0m 100% (8000/8000), done.\n",
            "\u001b[36mMessages received during sampling:\u001b[0m\n",
            "  Gradient evaluation took 0.001072 seconds\n",
            "  1000 transitions using 10 leapfrog steps per transition would take 10.72 seconds.\n",
            "  Adjust your expectations accordingly!\n",
            "  Informational Message: The current Metropolis proposal is about to be rejected because of the following issue:\n",
            "  Exception: beta_lpdf: First shape parameter is inf, but must be positive finite! (in '/tmp/httpstan_178mamqv/model_wstwhyij.stan', line 37, column 2 to column 31)\n",
            "  If this warning occurs sporadically, such as for highly constrained variable types like covariance matrices, then the sampler is fine,\n",
            "  but if this warning occurs often then your model may be either severely ill-conditioned or misspecified.\n",
            "  Informational Message: The current Metropolis proposal is about to be rejected because of the following issue:\n",
            "  Exception: beta_lpdf: First shape parameter is inf, but must be positive finite! (in '/tmp/httpstan_178mamqv/model_wstwhyij.stan', line 37, column 2 to column 31)\n",
            "  If this warning occurs sporadically, such as for highly constrained variable types like covariance matrices, then the sampler is fine,\n",
            "  but if this warning occurs often then your model may be either severely ill-conditioned or misspecified.\n",
            "  Informational Message: The current Metropolis proposal is about to be rejected because of the following issue:\n",
            "  Exception: beta_lpdf: First shape parameter is inf, but must be positive finite! (in '/tmp/httpstan_178mamqv/model_wstwhyij.stan', line 37, column 2 to column 31)\n",
            "  If this warning occurs sporadically, such as for highly constrained variable types like covariance matrices, then the sampler is fine,\n",
            "  but if this warning occurs often then your model may be either severely ill-conditioned or misspecified.\n",
            "  Informational Message: The current Metropolis proposal is about to be rejected because of the following issue:\n",
            "  Exception: beta_lpdf: First shape parameter is 0, but must be positive finite! (in '/tmp/httpstan_178mamqv/model_wstwhyij.stan', line 37, column 2 to column 31)\n",
            "  If this warning occurs sporadically, such as for highly constrained variable types like covariance matrices, then the sampler is fine,\n",
            "  but if this warning occurs often then your model may be either severely ill-conditioned or misspecified.\n",
            "  Informational Message: The current Metropolis proposal is about to be rejected because of the following issue:\n",
            "  Exception: beta_lpdf: First shape parameter is 0, but must be positive finite! (in '/tmp/httpstan_178mamqv/model_wstwhyij.stan', line 37, column 2 to column 31)\n",
            "  If this warning occurs sporadically, such as for highly constrained variable types like covariance matrices, then the sampler is fine,\n",
            "  but if this warning occurs often then your model may be either severely ill-conditioned or misspecified.\n",
            "  Gradient evaluation took 0.001392 seconds\n",
            "  1000 transitions using 10 leapfrog steps per transition would take 13.92 seconds.\n",
            "  Adjust your expectations accordingly!\n",
            "  Informational Message: The current Metropolis proposal is about to be rejected because of the following issue:\n",
            "  Exception: beta_lpdf: First shape parameter is inf, but must be positive finite! (in '/tmp/httpstan_178mamqv/model_wstwhyij.stan', line 37, column 2 to column 31)\n",
            "  If this warning occurs sporadically, such as for highly constrained variable types like covariance matrices, then the sampler is fine,\n",
            "  but if this warning occurs often then your model may be either severely ill-conditioned or misspecified.\n",
            "  Informational Message: The current Metropolis proposal is about to be rejected because of the following issue:\n",
            "  Exception: beta_lpdf: First shape parameter is inf, but must be positive finite! (in '/tmp/httpstan_178mamqv/model_wstwhyij.stan', line 37, column 2 to column 31)\n",
            "  If this warning occurs sporadically, such as for highly constrained variable types like covariance matrices, then the sampler is fine,\n",
            "  but if this warning occurs often then your model may be either severely ill-conditioned or misspecified.\n",
            "  Informational Message: The current Metropolis proposal is about to be rejected because of the following issue:\n",
            "  Exception: beta_lpdf: First shape parameter is inf, but must be positive finite! (in '/tmp/httpstan_178mamqv/model_wstwhyij.stan', line 37, column 2 to column 31)\n",
            "  If this warning occurs sporadically, such as for highly constrained variable types like covariance matrices, then the sampler is fine,\n",
            "  but if this warning occurs often then your model may be either severely ill-conditioned or misspecified.\n",
            "  Informational Message: The current Metropolis proposal is about to be rejected because of the following issue:\n",
            "  Exception: beta_lpdf: Second shape parameter is 0, but must be positive finite! (in '/tmp/httpstan_178mamqv/model_wstwhyij.stan', line 37, column 2 to column 31)\n",
            "  If this warning occurs sporadically, such as for highly constrained variable types like covariance matrices, then the sampler is fine,\n",
            "  but if this warning occurs often then your model may be either severely ill-conditioned or misspecified.\n",
            "  Informational Message: The current Metropolis proposal is about to be rejected because of the following issue:\n",
            "  Exception: beta_lpdf: First shape parameter is 0, but must be positive finite! (in '/tmp/httpstan_178mamqv/model_wstwhyij.stan', line 37, column 2 to column 31)\n",
            "  If this warning occurs sporadically, such as for highly constrained variable types like covariance matrices, then the sampler is fine,\n",
            "  but if this warning occurs often then your model may be either severely ill-conditioned or misspecified.\n",
            "  Informational Message: The current Metropolis proposal is about to be rejected because of the following issue:\n",
            "  Exception: beta_lpdf: First shape parameter is 0, but must be positive finite! (in '/tmp/httpstan_178mamqv/model_wstwhyij.stan', line 37, column 2 to column 31)\n",
            "  If this warning occurs sporadically, such as for highly constrained variable types like covariance matrices, then the sampler is fine,\n",
            "  but if this warning occurs often then your model may be either severely ill-conditioned or misspecified.\n",
            "  Gradient evaluation took 0.00062 seconds\n",
            "  1000 transitions using 10 leapfrog steps per transition would take 6.2 seconds.\n",
            "  Adjust your expectations accordingly!\n",
            "  Informational Message: The current Metropolis proposal is about to be rejected because of the following issue:\n",
            "  Exception: beta_lpdf: First shape parameter is inf, but must be positive finite! (in '/tmp/httpstan_178mamqv/model_wstwhyij.stan', line 37, column 2 to column 31)\n",
            "  If this warning occurs sporadically, such as for highly constrained variable types like covariance matrices, then the sampler is fine,\n",
            "  but if this warning occurs often then your model may be either severely ill-conditioned or misspecified.\n",
            "  Informational Message: The current Metropolis proposal is about to be rejected because of the following issue:\n",
            "  Exception: beta_lpdf: First shape parameter is inf, but must be positive finite! (in '/tmp/httpstan_178mamqv/model_wstwhyij.stan', line 37, column 2 to column 31)\n",
            "  If this warning occurs sporadically, such as for highly constrained variable types like covariance matrices, then the sampler is fine,\n",
            "  but if this warning occurs often then your model may be either severely ill-conditioned or misspecified.\n",
            "  Informational Message: The current Metropolis proposal is about to be rejected because of the following issue:\n",
            "  Exception: beta_lpdf: First shape parameter is inf, but must be positive finite! (in '/tmp/httpstan_178mamqv/model_wstwhyij.stan', line 37, column 2 to column 31)\n",
            "  If this warning occurs sporadically, such as for highly constrained variable types like covariance matrices, then the sampler is fine,\n",
            "  but if this warning occurs often then your model may be either severely ill-conditioned or misspecified.\n",
            "  Informational Message: The current Metropolis proposal is about to be rejected because of the following issue:\n",
            "  Exception: beta_lpdf: First shape parameter is inf, but must be positive finite! (in '/tmp/httpstan_178mamqv/model_wstwhyij.stan', line 37, column 2 to column 31)\n",
            "  If this warning occurs sporadically, such as for highly constrained variable types like covariance matrices, then the sampler is fine,\n",
            "  but if this warning occurs often then your model may be either severely ill-conditioned or misspecified.\n",
            "  Gradient evaluation took 0.000558 seconds\n",
            "  1000 transitions using 10 leapfrog steps per transition would take 5.58 seconds.\n",
            "  Adjust your expectations accordingly!\n",
            "  Informational Message: The current Metropolis proposal is about to be rejected because of the following issue:\n",
            "  Exception: beta_lpdf: First shape parameter is 0, but must be positive finite! (in '/tmp/httpstan_178mamqv/model_wstwhyij.stan', line 37, column 2 to column 31)\n",
            "  If this warning occurs sporadically, such as for highly constrained variable types like covariance matrices, then the sampler is fine,\n",
            "  but if this warning occurs often then your model may be either severely ill-conditioned or misspecified.\n",
            "  Informational Message: The current Metropolis proposal is about to be rejected because of the following issue:\n",
            "  Exception: beta_lpdf: First shape parameter is 0, but must be positive finite! (in '/tmp/httpstan_178mamqv/model_wstwhyij.stan', line 37, column 2 to column 31)\n",
            "  If this warning occurs sporadically, such as for highly constrained variable types like covariance matrices, then the sampler is fine,\n",
            "  but if this warning occurs often then your model may be either severely ill-conditioned or misspecified.\n",
            "  Informational Message: The current Metropolis proposal is about to be rejected because of the following issue:\n",
            "  Exception: beta_lpdf: First shape parameter is 0, but must be positive finite! (in '/tmp/httpstan_178mamqv/model_wstwhyij.stan', line 37, column 2 to column 31)\n",
            "  If this warning occurs sporadically, such as for highly constrained variable types like covariance matrices, then the sampler is fine,\n",
            "  but if this warning occurs often then your model may be either severely ill-conditioned or misspecified.\n",
            "  Informational Message: The current Metropolis proposal is about to be rejected because of the following issue:\n",
            "  Exception: beta_lpdf: First shape parameter is inf, but must be positive finite! (in '/tmp/httpstan_178mamqv/model_wstwhyij.stan', line 37, column 2 to column 31)\n",
            "  If this warning occurs sporadically, such as for highly constrained variable types like covariance matrices, then the sampler is fine,\n",
            "  but if this warning occurs often then your model may be either severely ill-conditioned or misspecified.\n",
            "  Informational Message: The current Metropolis proposal is about to be rejected because of the following issue:\n",
            "  Exception: beta_lpdf: First shape parameter is inf, but must be positive finite! (in '/tmp/httpstan_178mamqv/model_wstwhyij.stan', line 37, column 2 to column 31)\n",
            "  If this warning occurs sporadically, such as for highly constrained variable types like covariance matrices, then the sampler is fine,\n",
            "  but if this warning occurs often then your model may be either severely ill-conditioned or misspecified.\n"
          ]
        }
      ]
    },
    {
      "cell_type": "code",
      "source": [
        "!rm -rf build"
      ],
      "metadata": {
        "id": "xGRVEtsObd2i"
      },
      "execution_count": 29,
      "outputs": []
    },
    {
      "cell_type": "code",
      "source": [
        "import pandas as pd\n",
        "df = pd.read_csv('traces.csv')"
      ],
      "metadata": {
        "id": "AQ9OpMvNctW8"
      },
      "execution_count": 15,
      "outputs": []
    },
    {
      "cell_type": "code",
      "source": [
        "import seaborn as sns\n"
      ],
      "metadata": {
        "id": "9h-8TKO4fn5-"
      },
      "execution_count": 24,
      "outputs": []
    },
    {
      "cell_type": "code",
      "source": [
        "sns.kdeplot(data = df,x='k_plus')"
      ],
      "metadata": {
        "colab": {
          "base_uri": "https://localhost:8080/",
          "height": 297
        },
        "id": "IGg328opgeC5",
        "outputId": "4f0eeffb-93fd-4aab-a909-5966e759b9ae"
      },
      "execution_count": 25,
      "outputs": [
        {
          "output_type": "execute_result",
          "data": {
            "text/plain": [
              "<matplotlib.axes._subplots.AxesSubplot at 0x7fdae0c290d0>"
            ]
          },
          "metadata": {},
          "execution_count": 25
        },
        {
          "output_type": "display_data",
          "data": {
            "text/plain": [
              "<Figure size 432x288 with 1 Axes>"
            ],
            "image/png": "[encoded data removed]"
          },
          "metadata": {
            "needs_background": "light"
          }
        }
      ]
    },
    {
      "cell_type": "code",
      "source": [],
      "metadata": {
        "id": "_WCENCPPgso9"
      },
      "execution_count": null,
      "outputs": []
    }
  ]
}